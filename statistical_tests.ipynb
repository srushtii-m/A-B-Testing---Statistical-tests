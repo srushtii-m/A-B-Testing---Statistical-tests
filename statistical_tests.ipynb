{
 "cells": [
  {
   "cell_type": "code",
   "execution_count": 1,
   "metadata": {},
   "outputs": [],
   "source": [
    "import matplotlib.pyplot as plt\n",
    "import numpy as np\n",
    "import pandas as pd\n",
    "from scipy.special import binom\n",
    "from scipy.stats import chi2_contingency, mannwhitneyu, norm, t, ttest_ind\n",
    "\n",
    "%matplotlib inline"
   ]
  },
  {
   "cell_type": "markdown",
   "metadata": {},
   "source": [
    "## Discrete Metrics"
   ]
  },
  {
   "cell_type": "markdown",
   "metadata": {},
   "source": [
    "When analyzing discrete metrics like click-through rate, we randomly expose visitors to one of two ad designs to see if there's a significant difference in effectiveness. This tests the hypothesis that both designs perform equally in generating clicks."
   ]
  },
  {
   "cell_type": "code",
   "execution_count": 16,
   "metadata": {},
   "outputs": [
    {
     "name": "stdout",
     "output_type": "stream",
     "text": [
      "- Initial Observations:\n",
      "  - Version A Clicks: [1 0 0 1 1 1 1 0 0 0 1 0 0 1 1]\n",
      "  - Version B Clicks: [0 0 0 0 0 1 0 0 0 0 1 0 0 0 0 1 0 0 1]\n",
      "\n",
      "- Contingency Table:\n"
     ]
    },
    {
     "data": {
      "text/html": [
       "<div>\n",
       "<style scoped>\n",
       "    .dataframe tbody tr th:only-of-type {\n",
       "        vertical-align: middle;\n",
       "    }\n",
       "\n",
       "    .dataframe tbody tr th {\n",
       "        vertical-align: top;\n",
       "    }\n",
       "\n",
       "    .dataframe thead th {\n",
       "        text-align: right;\n",
       "    }\n",
       "</style>\n",
       "<table border=\"1\" class=\"dataframe\">\n",
       "  <thead>\n",
       "    <tr style=\"text-align: right;\">\n",
       "      <th></th>\n",
       "      <th>Version A</th>\n",
       "      <th>Version B</th>\n",
       "    </tr>\n",
       "  </thead>\n",
       "  <tbody>\n",
       "    <tr>\n",
       "      <th>Clicked</th>\n",
       "      <td>7</td>\n",
       "      <td>15</td>\n",
       "    </tr>\n",
       "    <tr>\n",
       "      <th>Not Clicked</th>\n",
       "      <td>8</td>\n",
       "      <td>4</td>\n",
       "    </tr>\n",
       "  </tbody>\n",
       "</table>\n",
       "</div>"
      ],
      "text/plain": [
       "             Version A  Version B\n",
       "Clicked              7         15\n",
       "Not Clicked          8          4"
      ]
     },
     "metadata": {},
     "output_type": "display_data"
    }
   ],
   "source": [
    "# Setting the random seed for reproducibility\n",
    "np.random.seed(42)\n",
    "\n",
    "# Generating click data for two ad versions\n",
    "clicks_version_A = np.random.binomial(n=1, p=0.6, size=15)\n",
    "clicks_version_B = np.random.binomial(n=1, p=0.4, size=19)\n",
    "\n",
    "# Calculating the counts of clicks and no-clicks for both versions\n",
    "click_counts_A, no_click_counts_A = np.bincount(clicks_version_A)\n",
    "click_counts_B, no_click_counts_B = np.bincount(clicks_version_B)\n",
    "\n",
    "# Constructing a contingency table from the click data\n",
    "contingency_table = pd.DataFrame({\n",
    "    'Version A': [click_counts_A, no_click_counts_A], \n",
    "    'Version B': [click_counts_B, no_click_counts_B]\n",
    "}, index=['Clicked', 'Not Clicked'])\n",
    "\n",
    "print(\"- Initial Observations:\")\n",
    "print(f\"  - Version A Clicks: {clicks_version_A}\")\n",
    "print(f\"  - Version B Clicks: {clicks_version_B}\\n\")\n",
    "print(\"- Contingency Table:\")\n",
    "display(contingency_table)"
   ]
  },
  {
   "cell_type": "markdown",
   "metadata": {},
   "source": [
    "### Fisher's exact test\n",
    "\n",
    "Since we have a 2x2 contingency table we can use Fisher's exact test to compute an exact p-value and test our hypothesis."
   ]
  },
  {
   "cell_type": "code",
   "execution_count": 9,
   "metadata": {},
   "outputs": [],
   "source": [
    "def calc_hypergeometric_dist(successes, total_successes, draws, total):\n",
    "    \"\"\"Calculates the hypergeometric distribution probability.\"\"\"\n",
    "    return binom(total_successes, successes) * binom(total - total_successes, draws - successes) / binom(total, draws)\n",
    "\n",
    "def fishers_exact_test(cont_table):\n",
    "    \"\"\"Determines the Fisher's exact test probability for a contingency table.\"\"\"\n",
    "    (clicks_A, clicks_B), (no_clicks_A, no_clicks_B) = cont_table\n",
    "    total_clicks = clicks_A + clicks_B\n",
    "    total_views = clicks_A + no_clicks_A\n",
    "    total = clicks_A + clicks_B + no_clicks_A + no_clicks_B\n",
    "    return calc_hypergeometric_dist(clicks_A, total_clicks, total_views, total)\n",
    "\n",
    "def histogram_fishers_test(cont_table):\n",
    "    \"\"\"Creates a probability mass function histogram based on Fisher's exact test.\"\"\"\n",
    "    min_neg = -min(contingency_table.values[0, 0], contingency_table.values[1, 1])\n",
    "    max_pos = min(contingency_table.values[1, 0], contingency_table.values[0, 1])\n",
    "    probabilities = []\n",
    "    for shift in range(min_neg, max_pos + 1):\n",
    "        adjusted_matrix = cont_table + np.array([[1, -1], [-1, 1]]) * shift\n",
    "        probabilities.append(fishers_exact_test(adjusted_matrix))\n",
    "    return probabilities\n"
   ]
  },
  {
   "cell_type": "code",
   "execution_count": 18,
   "metadata": {},
   "outputs": [
    {
     "name": "stdout",
     "output_type": "stream",
     "text": [
      "Fisher's Exact Test P-Value: 7.5%\n"
     ]
    },
    {
     "data": {
      "image/png": "[encoded data removed]",
      "text/plain": [
       "<Figure size 600x300 with 1 Axes>"
      ]
     },
     "metadata": {},
     "output_type": "display_data"
    }
   ],
   "source": [
    "\n",
    "min_neg = -min(contingency_table.values[0, 0], contingency_table.values[1, 1])\n",
    "max_pos = min(contingency_table.values[1, 0], contingency_table.values[0, 1])\n",
    "# Running the Fisher's exact test histogram calculation\n",
    "histogram_probs = np.array(histogram_fishers_test(contingency_table.values))\n",
    "\n",
    "# Plotting the results\n",
    "fig, axis = plt.subplots(figsize=(6, 3))\n",
    "indexes = np.arange(len(histogram_probs))\n",
    "axis.bar(indexes, histogram_probs)\n",
    "highlighted_indexes = histogram_probs <= fishers_exact_test(contingency_table.values)\n",
    "axis.bar(indexes[highlighted_indexes], histogram_probs[highlighted_indexes], color='red')\n",
    "axis.set_ylabel(\"Probability Density\")\n",
    "\n",
    "# Calculating the p-value\n",
    "p_value = histogram_probs[highlighted_indexes].sum()\n",
    "\n",
    "# Highlighting the observed value's bar\n",
    "axis.bar(indexes[-min_neg], histogram_probs[-min_neg], color='orange')\n",
    "axis.set_xticks(indexes)\n",
    "axis.set_xticklabels(np.arange(min_neg, max_pos + 1))\n",
    "fig.tight_layout()\n",
    "\n",
    "# Printing the p-value\n",
    "print(f\"Fisher's Exact Test P-Value: {100*p_value:.1f}%\")"
   ]
  },
  {
   "cell_type": "markdown",
   "metadata": {},
   "source": [
    "### Pearson's chi-squared test\n",
    "\n",
    "Fisher's exact test has the important advantage of computing exact p-values. But if we have a large sample size, it may be computationally inefficient. In this case, we can use Pearson's chi-squared test to compute an approximate p-value."
   ]
  },
  {
   "cell_type": "code",
   "execution_count": 19,
   "metadata": {},
   "outputs": [
    {
     "name": "stdout",
     "output_type": "stream",
     "text": [
      "- Pearson's Chi-Squared Test Results:\n",
      "   - Chi-Squared Statistic: 3.825\n",
      "   - P-Value: 5.1%\n"
     ]
    }
   ],
   "source": [
    "# Performing the chi-squared test without the Yates' continuity correction\n",
    "chi_squared_statistic, p_value_chi_squared = chi2_contingency(contingency_table.values, correction=False)[:2]\n",
    "\n",
    "# Displaying the results of the chi-squared test\n",
    "print(\"- Pearson's Chi-Squared Test Results:\")\n",
    "print(f\"   - Chi-Squared Statistic: {chi_squared_statistic:.3f}\")\n",
    "print(f\"   - P-Value: {p_value_chi_squared*100:.1f}%\")"
   ]
  },
  {
   "cell_type": "markdown",
   "metadata": {},
   "source": [
    "## Continuous Metrics"
   ]
  },
  {
   "cell_type": "markdown",
   "metadata": {},
   "source": [
    "In examining continuous metrics, such as the average revenue per user, the focus shifts to assessing the financial impact of different website layouts on user spending. By randomly presenting one of two product layout designs to website visitors, and tracking the monthly revenue generated from each user, the goal is to evaluate if there's a significant difference in revenue efficiency between the two layouts. This approach tests the null hypothesis, which posits that both layouts perform equally in terms of revenue generation."
   ]
  },
  {
   "cell_type": "code",
   "execution_count": 20,
   "metadata": {},
   "outputs": [
    {
     "name": "stdout",
     "output_type": "stream",
     "text": [
      "- Revenue Data Overview:\n",
      "  - Layout A Revenue: [200 150 250 350 150 150 350 250 150 250 150 150 200   0   0 100  50]\n",
      "  - Layout B Revenue: [300 150 150 400 250 250 150 200 250 150 300 200 250 200]\n",
      "\n",
      "- Visualizing Revenue Distribution:\n"
     ]
    },
    {
     "data": {
      "image/png": "[encoded data removed]",
      "text/plain": [
       "<Figure size 600x300 with 1 Axes>"
      ]
     },
     "metadata": {},
     "output_type": "display_data"
    }
   ],
   "source": [
    "np.random.seed(42)\n",
    "\n",
    "# Defining the sample sizes for both versions\n",
    "sample_size_A, sample_size_B = 17, 14\n",
    "\n",
    "# Creating distributions for both versions with specific mean and standard deviation\n",
    "distribution_A = norm(loc=200, scale=100)\n",
    "distribution_B = norm(loc=280, scale=90)\n",
    "\n",
    "# Discretizing the revenue data to the nearest $50 for each version\n",
    "discretization_interval = 50\n",
    "revenue_A = (distribution_A.rvs(size=sample_size_A) / discretization_interval).astype(int) * discretization_interval\n",
    "revenue_B = (distribution_B.rvs(size=sample_size_B) / discretization_interval).astype(int) * discretization_interval\n",
    "\n",
    "# Printing the observed revenue values\n",
    "print(\"- Revenue Data Overview:\")\n",
    "print(f\"  - Layout A Revenue: {revenue_A}\")\n",
    "print(f\"  - Layout B Revenue: {revenue_B}\\n\")\n",
    "\n",
    "# Plotting the distribution of purchase values\n",
    "print(\"- Visualizing Revenue Distribution:\")\n",
    "fig, axis = plt.subplots(figsize=(6, 3))\n",
    "labels = [\"Layout A\", \"Layout B\"]\n",
    "colors = [\"skyblue\", \"lightgreen\"]\n",
    "for index, (revenue, label, color) in enumerate(zip([revenue_A, revenue_B], labels, colors)):\n",
    "    values, counts = np.unique(revenue, return_counts=True)\n",
    "    axis.bar(values - 5 + 10 * index, counts, width=10, label=label, color=color)\n",
    "\n",
    "axis.set_xlabel(\"Revenue per User ($)\")\n",
    "axis.set_ylabel(\"User Count\")\n",
    "axis.legend()\n",
    "plt.show()"
   ]
  },
  {
   "cell_type": "code",
   "execution_count": 22,
   "metadata": {},
   "outputs": [],
   "source": [
    "def plot_p_value(distribution, test_statistic, x_limits=(-5, 5), y_limits=(0, 0.5)):\n",
    "    # Generating a range of x values for plotting the distribution\n",
    "    x_values = np.linspace(x_limits[0], x_limits[1], 1000)\n",
    "    figure, axis = plt.subplots(figsize=(4, 3))\n",
    "    \n",
    "    # Plotting the probability density function (PDF) of the distribution\n",
    "    axis.plot(x_values, distribution.pdf(x_values))\n",
    "    axis.set_ylim(y_limits)\n",
    "    \n",
    "    # Drawing a vertical line and point at the test statistic value\n",
    "    axis.vlines(test_statistic, 0, distribution.pdf(test_statistic), color='orange')\n",
    "    axis.plot(test_statistic, distribution.pdf(test_statistic), 'o', color='orange')\n",
    "    \n",
    "    # Highlighting the critical region in the tail(s) where x <= test statistic\n",
    "    left_tail = x_values <= test_statistic\n",
    "    axis.fill_between(x_values[left_tail], 0, distribution.pdf(x_values[left_tail]), color='red')\n",
    "    \n",
    "    # Highlighting the critical region in the tail(s) where x >= -test statistic\n",
    "    right_tail = x_values >= -test_statistic\n",
    "    axis.fill_between(x_values[right_tail], 0, distribution.pdf(x_values[right_tail]), color='red')\n",
    "    \n",
    "    axis.set_ylabel(\"Probability Density\")\n",
    "    figure.tight_layout()\n",
    "    \n",
    "    return figure, axis"
   ]
  },
  {
   "cell_type": "markdown",
   "metadata": {},
   "source": [
    "### Z-test\n",
    "\n",
    "The Z-test can be applied under the following assumptions:\n",
    "* The observations are normally distributed (or the sample size is large).\n",
    "* The sampling distributions have known variance σ_X and σ_Y.\n",
    "\n",
    "Under the above assumptions, the Z-test relies on the observation that the following Z statistic has a standard normal distribution."
   ]
  },
  {
   "cell_type": "code",
   "execution_count": 27,
   "metadata": {},
   "outputs": [
    {
     "name": "stdout",
     "output_type": "stream",
     "text": [
      "- Z-test:\n",
      "   - z value: -1.697\n",
      "   - p-value: 9.0%\n"
     ]
    },
    {
     "data": {
      "text/plain": [
       "(<Figure size 400x300 with 1 Axes>, <Axes: ylabel='Probability Density'>)"
      ]
     },
     "execution_count": 27,
     "metadata": {},
     "output_type": "execute_result"
    },
    {
     "data": {
      "image/png": "[encoded data removed]",
      "text/plain": [
       "<Figure size 400x300 with 1 Axes>"
      ]
     },
     "metadata": {},
     "output_type": "display_data"
    }
   ],
   "source": [
    "# Known standard deviations\n",
    "s_x = 100\n",
    "s_y = 90\n",
    "\n",
    "# Calculating the Z value\n",
    "z_val = (revenue_A.mean() - revenue_B.mean()) / np.sqrt(s_x**2 / sample_size_A + s_y**2 / sample_size_B)\n",
    "\n",
    "# Test statistic distribution under the null hypothesis H0 (standard normal distribution)\n",
    "stat_distrib = norm(loc=0, scale=1)\n",
    "\n",
    "# p-value\n",
    "p_val = stat_distrib.cdf(z_val) * 2\n",
    "\n",
    "print(\"- Z-test:\")\n",
    "print(f\"   - z value: {z_val:.3f}\")\n",
    "print(f\"   - p-value: {p_val*100:.1f}%\")\n",
    "plot_p_value(stat_distrib, z_val)"
   ]
  },
  {
   "cell_type": "markdown",
   "metadata": {},
   "source": [
    "### Welch's Test\n",
    "\n",
    "Welch's t-test is used when two sample groups have unequal variances, modifying the standard t-test to accommodate this variance difference. It calculates a distinct degrees of freedom, ensuring accurate comparison of means even when the assumption of equal variances is not met."
   ]
  },
  {
   "cell_type": "code",
   "execution_count": 29,
   "metadata": {},
   "outputs": [
    {
     "name": "stdout",
     "output_type": "stream",
     "text": [
      "- Welch' t-test:\n",
      "   - nu: 28.505\n",
      "   - t value: -1.848\n",
      "   - p-value: 7.5%\n"
     ]
    },
    {
     "data": {
      "text/plain": [
       "(<Figure size 400x300 with 1 Axes>, <Axes: ylabel='Probability Density'>)"
      ]
     },
     "execution_count": 29,
     "metadata": {},
     "output_type": "execute_result"
    },
    {
     "data": {
      "image/png": "[encoded data removed]",
      "text/plain": [
       "<Figure size 400x300 with 1 Axes>"
      ]
     },
     "metadata": {},
     "output_type": "display_data"
    }
   ],
   "source": [
    "# Sample variances (w. Bessel correction)\n",
    "s_x = np.sqrt(np.var(revenue_A, ddof=1))\n",
    "s_y = np.sqrt(np.var(revenue_B, ddof=1))\n",
    "\n",
    "# Denominator (not a pooled variance!)\n",
    "s_d = np.sqrt(s_x**2/sample_size_A + s_y**2/sample_size_B)\n",
    "\n",
    "    \n",
    "# Test statistic distribution under null hypothesis H0\n",
    "dofs = s_d**4 / ((s_x**2/sample_size_A)**2/(sample_size_A-1) +\n",
    "                 (s_y**2/sample_size_B)**2/(sample_size_B-1))\n",
    "stat_distrib = t(df=dofs, loc=0, scale=1)\n",
    "\n",
    "# t value\n",
    "t_val = (revenue_A.mean() - revenue_B.mean()) / s_d\n",
    "\n",
    "# p-value\n",
    "p_val = stat_distrib.cdf(t_val) * 2\n",
    "\n",
    "print(\"- Welch' t-test:\")\n",
    "print(f\"   - nu: {dofs:.3f}\")\n",
    "print(f\"   - t value: {t_val:.3f}\")\n",
    "print(f\"   - p-value: {p_val*100:.1f}%\")\n",
    "plot_p_value(stat_distrib, z_val)"
   ]
  },
  {
   "cell_type": "markdown",
   "metadata": {},
   "source": [
    "### Mann-Whitney U test\n",
    "\n",
    "The Mann-Whitney U test, a nonparametric method, requires minimal assumptions about the data's distribution. It evaluates the U statistic to analyze if two independent samples likely originate from the same distribution. \n",
    "\n",
    "Under the null hypothesis, it assumes that the probability of a value from one sample being greater than a value from the other sample is equal to the probability of it being less. This test is particularly useful when dealing with non-normal distributions or unequal variances between groups."
   ]
  },
  {
   "cell_type": "code",
   "execution_count": 30,
   "metadata": {},
   "outputs": [
    {
     "name": "stdout",
     "output_type": "stream",
     "text": [
      "- Mann-Whitney U test:\n",
      "   - U value: 76.000\n",
      "   - p-value: 8.0%\n"
     ]
    }
   ],
   "source": [
    "mwu = mannwhitneyu(revenue_A, revenue_B, use_continuity=False, alternative=\"two-sided\")\n",
    "\n",
    "print(\"- Mann-Whitney U test:\")\n",
    "print(f\"   - U value: {mwu.statistic:.3f}\")\n",
    "print(f\"   - p-value: {mwu.pvalue*100:.1f}%\")"
   ]
  }
 ],
 "metadata": {
  "kernelspec": {
   "display_name": "Python 3",
   "language": "python",
   "name": "python3"
  },
  "language_info": {
   "codemirror_mode": {
    "name": "ipython",
    "version": 3
   },
   "file_extension": ".py",
   "mimetype": "text/x-python",
   "name": "python",
   "nbconvert_exporter": "python",
   "pygments_lexer": "ipython3",
   "version": "3.9.18"
  }
 },
 "nbformat": 4,
 "nbformat_minor": 2
}
